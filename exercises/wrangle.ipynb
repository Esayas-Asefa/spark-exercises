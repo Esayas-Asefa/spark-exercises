{
 "cells": [
  {
   "cell_type": "code",
   "execution_count": 1,
   "id": "04c17ba3",
   "metadata": {},
   "outputs": [],
   "source": [
    "import os\n",
    "import pyspark\n",
    "from pyspark.sql import SparkSession\n",
    "from pyspark.sql.functions import *\n",
    "from pyspark.sql.types import StructType, StructField, StringType\n",
    "import pandas as pd\n",
    "from pydataset import data\n",
    "from env import host, username, password\n"
   ]
  },
  {
   "cell_type": "markdown",
   "id": "db609471",
   "metadata": {},
   "source": [
    "Acquire, first 3:\n",
    "\n",
    "Read the case, department, and source data into their own spark dataframes.\n",
    "\n",
    "Let's see how writing to the local disk works in spark:\n",
    "\n",
    "1. Write the code necessary to store the source data in both csv and json format, store these as sources_csv and sources_json\n",
    "\n",
    "\n",
    "\n",
    "2. Inspect your folder structure. What do you notice?\n",
    "\n",
    "Creating the csv didn't produce any folders, only a single file. While the JSON produced a folder. The json files are organized with the names of each column in each row.\n",
    "\n",
    "3. Inspect the data in your dataframes. Are the data types appropriate? Write the code necessary to cast the values to the appropriate types.\n",
    "\n"
   ]
  },
  {
   "cell_type": "code",
   "execution_count": 2,
   "id": "24123fa0",
   "metadata": {},
   "outputs": [
    {
     "name": "stderr",
     "output_type": "stream",
     "text": [
      "Setting default log level to \"WARN\".\n",
      "To adjust logging level use sc.setLogLevel(newLevel). For SparkR, use setLogLevel(newLevel).\n",
      "23/07/05 15:03:42 WARN NativeCodeLoader: Unable to load native-hadoop library for your platform... using builtin-java classes where applicable\n",
      "23/07/05 15:03:43 WARN Utils: Service 'SparkUI' could not bind on port 4040. Attempting port 4041.\n"
     ]
    }
   ],
   "source": [
    "spark = SparkSession.builder.getOrCreate()"
   ]
  },
  {
   "cell_type": "code",
   "execution_count": 3,
   "id": "a8757eec",
   "metadata": {},
   "outputs": [
    {
     "data": {
      "text/plain": [
       "DataFrame[dept_division: string, dept_name: string, standardized_dept_name: string, dept_subject_to_SLA: string]"
      ]
     },
     "execution_count": 3,
     "metadata": {},
     "output_type": "execute_result"
    }
   ],
   "source": [
    "df_dept = spark.read.csv(\"dept.csv\", sep=\",\", header=True, inferSchema=True)\n",
    "df_dept"
   ]
  },
  {
   "cell_type": "code",
   "execution_count": null,
   "id": "71037ea7",
   "metadata": {},
   "outputs": [],
   "source": []
  },
  {
   "cell_type": "code",
   "execution_count": 8,
   "id": "f9f28186",
   "metadata": {},
   "outputs": [
    {
     "data": {
      "text/plain": [
       "Row(dept_division='311 Call Center', dept_name='Customer Service', standardized_dept_name='Customer Service', dept_subject_to_SLA='YES')"
      ]
     },
     "execution_count": 8,
     "metadata": {},
     "output_type": "execute_result"
    }
   ],
   "source": [
    "df_dept.head()"
   ]
  },
  {
   "cell_type": "code",
   "execution_count": 4,
   "id": "62b39c35",
   "metadata": {},
   "outputs": [],
   "source": [
    "df_dept.write.json(\"dept_json\", mode=\"overwrite\")"
   ]
  },
  {
   "cell_type": "code",
   "execution_count": 5,
   "id": "3f7d5897",
   "metadata": {},
   "outputs": [
    {
     "data": {
      "text/plain": [
       "DataFrame[source_id: string, source_username: string]"
      ]
     },
     "execution_count": 5,
     "metadata": {},
     "output_type": "execute_result"
    }
   ],
   "source": [
    "df_source = spark.read.csv(\"source.csv\", sep=\",\", header=True, inferSchema=True)\n",
    "df_source"
   ]
  },
  {
   "cell_type": "code",
   "execution_count": 6,
   "id": "fb72c017",
   "metadata": {},
   "outputs": [],
   "source": [
    "df_source.write.json(\"source_json\", mode=\"overwrite\")"
   ]
  },
  {
   "cell_type": "code",
   "execution_count": 14,
   "id": "dc963b68",
   "metadata": {},
   "outputs": [
    {
     "name": "stderr",
     "output_type": "stream",
     "text": [
      "                                                                                \r"
     ]
    },
    {
     "data": {
      "text/plain": [
       "DataFrame[case_id: int, case_opened_date: string, case_closed_date: string, SLA_due_date: string, case_late: string, num_days_late: double, case_closed: string, dept_division: string, service_request_type: string, SLA_days: double, case_status: string, source_id: string, request_address: string, council_district: int]"
      ]
     },
     "execution_count": 14,
     "metadata": {},
     "output_type": "execute_result"
    }
   ],
   "source": [
    "df_case = spark.read.csv(\"case.csv\", sep=\",\", header=True, inferSchema=True)\n",
    "df_case"
   ]
  },
  {
   "cell_type": "code",
   "execution_count": 16,
   "id": "47e938e8",
   "metadata": {},
   "outputs": [
    {
     "name": "stderr",
     "output_type": "stream",
     "text": [
      "                                                                                \r"
     ]
    }
   ],
   "source": [
    "df_case.write.json(\"case_json\", mode=\"overwrite\")"
   ]
  },
  {
   "cell_type": "code",
   "execution_count": 7,
   "id": "1294a8ea",
   "metadata": {},
   "outputs": [
    {
     "data": {
      "text/plain": [
       "StructType([StructField('dept_division', StringType(), True), StructField('dept_name', StringType(), True), StructField('standardized_dept_name', StringType(), True), StructField('dept_subject_to_SLA', StringType(), True)])"
      ]
     },
     "execution_count": 7,
     "metadata": {},
     "output_type": "execute_result"
    }
   ],
   "source": [
    "df_dept.schema"
   ]
  },
  {
   "cell_type": "code",
   "execution_count": 9,
   "id": "193b57c6",
   "metadata": {},
   "outputs": [
    {
     "data": {
      "text/plain": [
       "StructType([StructField('source_id', StringType(), True), StructField('source_username', StringType(), True)])"
      ]
     },
     "execution_count": 9,
     "metadata": {},
     "output_type": "execute_result"
    }
   ],
   "source": [
    "df_source.schema"
   ]
  },
  {
   "cell_type": "code",
   "execution_count": 17,
   "id": "f753b0fe",
   "metadata": {},
   "outputs": [
    {
     "data": {
      "text/plain": [
       "StructType([StructField('case_id', IntegerType(), True), StructField('case_opened_date', StringType(), True), StructField('case_closed_date', StringType(), True), StructField('SLA_due_date', StringType(), True), StructField('case_late', StringType(), True), StructField('num_days_late', DoubleType(), True), StructField('case_closed', StringType(), True), StructField('dept_division', StringType(), True), StructField('service_request_type', StringType(), True), StructField('SLA_days', DoubleType(), True), StructField('case_status', StringType(), True), StructField('source_id', StringType(), True), StructField('request_address', StringType(), True), StructField('council_district', IntegerType(), True)])"
      ]
     },
     "execution_count": 17,
     "metadata": {},
     "output_type": "execute_result"
    }
   ],
   "source": [
    "df_case.schema\n",
    "#case_opened_date, case_closed_date, SLA_due_date, to datetype\n",
    "#case_closed to boolean\n",
    "#num_days_late to float\n",
    "#sla_days to float"
   ]
  },
  {
   "cell_type": "code",
   "execution_count": 18,
   "id": "2b53c719",
   "metadata": {},
   "outputs": [
    {
     "data": {
      "text/plain": [
       "[('case_id', 'int'),\n",
       " ('case_opened_date', 'string'),\n",
       " ('case_closed_date', 'string'),\n",
       " ('SLA_due_date', 'string'),\n",
       " ('case_late', 'string'),\n",
       " ('num_days_late', 'double'),\n",
       " ('case_closed', 'string'),\n",
       " ('dept_division', 'string'),\n",
       " ('service_request_type', 'string'),\n",
       " ('SLA_days', 'double'),\n",
       " ('case_status', 'string'),\n",
       " ('source_id', 'string'),\n",
       " ('request_address', 'string'),\n",
       " ('council_district', 'int')]"
      ]
     },
     "execution_count": 18,
     "metadata": {},
     "output_type": "execute_result"
    }
   ],
   "source": [
    "df_case.dtypes"
   ]
  },
  {
   "cell_type": "code",
   "execution_count": 10,
   "id": "2d0b3491",
   "metadata": {},
   "outputs": [],
   "source": [
    "#change source_id to integer in source\n",
    "\n",
    "df_source = df_source.withColumn(\"source_id\", col(\"source_id\").cast(\"int\"))"
   ]
  },
  {
   "cell_type": "code",
   "execution_count": 11,
   "id": "33058311",
   "metadata": {},
   "outputs": [],
   "source": [
    "#change dept_subject_to_SLA to boolean\n",
    "\n",
    "df_dept = df_dept.withColumn(\"case_closed\", expr('dept_subject_to_SLA == \"YES\"')).withColumn(\"case_open\", expr('dept_subject_to_SLA == \"YES\"'))"
   ]
  },
  {
   "cell_type": "code",
   "execution_count": 13,
   "id": "c55ae7bf",
   "metadata": {
    "scrolled": true
   },
   "outputs": [
    {
     "name": "stdout",
     "output_type": "stream",
     "text": [
      "+--------------------+--------------------+----------------------+-------------------+-----------+---------+\n",
      "|       dept_division|           dept_name|standardized_dept_name|dept_subject_to_SLA|case_closed|case_open|\n",
      "+--------------------+--------------------+----------------------+-------------------+-----------+---------+\n",
      "|     311 Call Center|    Customer Service|      Customer Service|                YES|       true|     true|\n",
      "|               Brush|Solid Waste Manag...|           Solid Waste|                YES|       true|     true|\n",
      "|     Clean and Green|Parks and Recreation|    Parks & Recreation|                YES|       true|     true|\n",
      "|Clean and Green N...|Parks and Recreation|    Parks & Recreation|                YES|       true|     true|\n",
      "|    Code Enforcement|Code Enforcement ...|  DSD/Code Enforcement|                YES|       true|     true|\n",
      "|Code Enforcement ...|Code Enforcement ...|  DSD/Code Enforcement|                YES|       true|     true|\n",
      "|Code Enforcement ...|                null|  DSD/Code Enforcement|                YES|       true|     true|\n",
      "|   Dangerous Premise|Code Enforcement ...|  DSD/Code Enforcement|                YES|       true|     true|\n",
      "|Dangerous Premise...|Code Enforcement ...|  DSD/Code Enforcement|                YES|       true|     true|\n",
      "|Director's Office...|Trans & Cap Impro...|  Trans & Cap Impro...|                YES|       true|     true|\n",
      "|          District 1|        City Council|          City Council|                 NO|      false|    false|\n",
      "|         District 10|        City Council|          City Council|                 NO|      false|    false|\n",
      "|          District 2|        City Council|          City Council|                 NO|      false|    false|\n",
      "|          District 3|        City Council|          City Council|                 NO|      false|    false|\n",
      "|          District 6|        City Council|          City Council|                 NO|      false|    false|\n",
      "|          District 7|        City Council|          City Council|                 NO|      false|    false|\n",
      "|          District 8|        City Council|          City Council|                 NO|      false|    false|\n",
      "|          District 9|        City Council|          City Council|                 NO|      false|    false|\n",
      "|Engineering Division|Development Services|  DSD/Code Enforcement|                YES|       true|     true|\n",
      "|    Facility License|        Metro Health|          Metro Health|                YES|       true|     true|\n",
      "+--------------------+--------------------+----------------------+-------------------+-----------+---------+\n",
      "only showing top 20 rows\n",
      "\n"
     ]
    }
   ],
   "source": [
    "df_dept.show()"
   ]
  },
  {
   "cell_type": "code",
   "execution_count": null,
   "id": "d1ec21e2",
   "metadata": {},
   "outputs": [],
   "source": [
    "case = spark.read.csv(\"case.csv\", sep=\",\", header=True, inferSchema=True)\n",
    "source = spark.read.csv(\"source.csv\", sep=\",\", header=True, inferSchema=True)\n",
    "dept = spark.read.csv(\"dept.csv\", sep=\",\", header=True, inferSchema=True)\n"
   ]
  },
  {
   "cell_type": "code",
   "execution_count": null,
   "id": "035e3936",
   "metadata": {},
   "outputs": [],
   "source": [
    "#2\n"
   ]
  },
  {
   "cell_type": "code",
   "execution_count": null,
   "id": "167fd9d0",
   "metadata": {},
   "outputs": [],
   "source": []
  },
  {
   "cell_type": "code",
   "execution_count": null,
   "id": "f27f375d",
   "metadata": {},
   "outputs": [],
   "source": []
  }
 ],
 "metadata": {
  "kernelspec": {
   "display_name": "Python 3 (ipykernel)",
   "language": "python",
   "name": "python3"
  },
  "language_info": {
   "codemirror_mode": {
    "name": "ipython",
    "version": 3
   },
   "file_extension": ".py",
   "mimetype": "text/x-python",
   "name": "python",
   "nbconvert_exporter": "python",
   "pygments_lexer": "ipython3",
   "version": "3.9.13"
  }
 },
 "nbformat": 4,
 "nbformat_minor": 5
}
